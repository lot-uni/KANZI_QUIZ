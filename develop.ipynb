{
 "cells": [
  {
   "cell_type": "code",
   "execution_count": 53,
   "metadata": {},
   "outputs": [
    {
     "name": "stdout",
     "output_type": "stream",
     "text": [
      "[1, 1]\n",
      "level1\n"
     ]
    }
   ],
   "source": [
    "import pandas as pd\n",
    "\n",
    "character=\"花火\"\n",
    "word_list=list(character)\n",
    "lis=[]\n",
    "df=pd.read_csv('json/kyoiku-kanji-2017.csv')\n",
    "for item in list(character):\n",
    "    df_kanji=df[df[\"Kanji\"].str.contains(item)]\n",
    "    if(df_kanji.empty):\n",
    "        print(\"激ムズ漢字\")\n",
    "        lis.append(7)\n",
    "    else:\n",
    "        lis.append(int(df_kanji[\"Grade_2017\"].values))\n",
    "print(lis)\n",
    "\n",
    "if(lis>=[7]):\n",
    "    print(\"level3\")\n",
    "    \n",
    "elif(lis<=[1,2,3]):\n",
    "    print(\"level1\")\n",
    "else:\n",
    "    print(\"level2\")\n"
   ]
  },
  {
   "cell_type": "code",
   "execution_count": null,
   "metadata": {},
   "outputs": [],
   "source": []
  },
  {
   "cell_type": "code",
   "execution_count": null,
   "metadata": {},
   "outputs": [],
   "source": []
  },
  {
   "cell_type": "code",
   "execution_count": null,
   "metadata": {},
   "outputs": [],
   "source": []
  }
 ],
 "metadata": {
  "kernelspec": {
   "display_name": "Python 3",
   "language": "python",
   "name": "python3"
  },
  "language_info": {
   "codemirror_mode": {
    "name": "ipython",
    "version": 3
   },
   "file_extension": ".py",
   "mimetype": "text/x-python",
   "name": "python",
   "nbconvert_exporter": "python",
   "pygments_lexer": "ipython3",
   "version": "3.8.9"
  }
 },
 "nbformat": 4,
 "nbformat_minor": 2
}
